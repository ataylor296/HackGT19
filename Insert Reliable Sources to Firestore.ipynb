{
 "cells": [
  {
   "cell_type": "code",
   "execution_count": 9,
   "metadata": {},
   "outputs": [],
   "source": [
    "import firebase_admin"
   ]
  },
  {
   "cell_type": "code",
   "execution_count": 10,
   "metadata": {},
   "outputs": [
    {
     "name": "stdout",
     "output_type": "stream",
     "text": [
      "env: GOOGLE_APPLICATION_CREDENTIALS=config.json\n"
     ]
    }
   ],
   "source": [
    "%env GOOGLE_APPLICATION_CREDENTIALS=config.json"
   ]
  },
  {
   "cell_type": "code",
   "execution_count": 11,
   "metadata": {},
   "outputs": [],
   "source": [
    "from firebase_admin import credentials\n",
    "from firebase_admin import firestore"
   ]
  },
  {
   "cell_type": "code",
   "execution_count": 12,
   "metadata": {},
   "outputs": [],
   "source": [
    "cred = credentials.ApplicationDefault()\n",
    "# firebase_admin.initialize_app(cred, {\n",
    "#   'projectId': 'hackgt19-53947',\n",
    "# })\n",
    "db = firestore.client()"
   ]
  },
  {
   "cell_type": "code",
   "execution_count": 13,
   "metadata": {},
   "outputs": [],
   "source": [
    "import csv"
   ]
  },
  {
   "cell_type": "code",
   "execution_count": 14,
   "metadata": {},
   "outputs": [],
   "source": [
    "with open('Reliable News Sources.csv') as csv_file:\n",
    "    csv_reader = csv.reader(csv_file, delimiter=',')\n",
    "    all_sources = []\n",
    "    for row in csv_reader:\n",
    "        if row[0]:\n",
    "            all_sources.append([row[0], int(row[1])])"
   ]
  },
  {
   "cell_type": "code",
   "execution_count": 15,
   "metadata": {},
   "outputs": [
    {
     "data": {
      "text/plain": [
       "[['New York Times', 95],\n",
       " ['Wall Street Journal', 95],\n",
       " ['Washington Post', 95],\n",
       " ['BBC', 95],\n",
       " ['Economist', 95],\n",
       " ['New Yorker', 95],\n",
       " ['Bloomberg News', 90],\n",
       " ['Reuters', 90],\n",
       " ['Associated Press', 90],\n",
       " ['Foreign Affairs', 90],\n",
       " ['Atlantic', 90],\n",
       " ['Politico', 90],\n",
       " ['National Public Radio', 85],\n",
       " ['TIME', 85],\n",
       " ['Christian Science Monitor', 85],\n",
       " ['Los Angeles Times', 85],\n",
       " ['USA Today', 85],\n",
       " ['CNN', 85],\n",
       " ['NBC News', 85],\n",
       " ['CBS News', 85],\n",
       " ['ABC News', 85],\n",
       " ['Forbes', 85],\n",
       " ['Fortune', 85]]"
      ]
     },
     "execution_count": 15,
     "metadata": {},
     "output_type": "execute_result"
    }
   ],
   "source": [
    "all_sources"
   ]
  },
  {
   "cell_type": "code",
   "execution_count": 16,
   "metadata": {},
   "outputs": [],
   "source": [
    "# for i in range(len(all_sources)):\n",
    "#     doc_ref = db.collection('sources').document(all_sources[i][0])\n",
    "#     doc_ref.set({\n",
    "#         'name': all_sources[i][0],\n",
    "#         'weight': all_sources[i][1]})"
   ]
  },
  {
   "cell_type": "code",
   "execution_count": null,
   "metadata": {},
   "outputs": [],
   "source": []
  }
 ],
 "metadata": {
  "kernelspec": {
   "display_name": "Python 3",
   "language": "python",
   "name": "python3"
  },
  "language_info": {
   "codemirror_mode": {
    "name": "ipython",
    "version": 3
   },
   "file_extension": ".py",
   "mimetype": "text/x-python",
   "name": "python",
   "nbconvert_exporter": "python",
   "pygments_lexer": "ipython3",
   "version": "3.6.5"
  }
 },
 "nbformat": 4,
 "nbformat_minor": 2
}
